{
 "cells": [
  {
   "cell_type": "markdown",
   "id": "4cc2d4c2",
   "metadata": {},
   "source": [
    "# Webcam Image\n",
    "\n",
    "The following cells demonstrat how to access your webcam with python."
   ]
  },
  {
   "cell_type": "markdown",
   "id": "13a16437",
   "metadata": {},
   "source": [
    "## Accessing the webcam with `imageio`\n",
    "\n",
    "To access the webcam with `imageio`, the module `imageio-ffmpeg` has to be installed. If you used our environment (`cv.yml`), this should already be the case. You can check this by executing the following cell:"
   ]
  },
  {
   "cell_type": "code",
   "execution_count": null,
   "id": "81dd09a8",
   "metadata": {},
   "outputs": [],
   "source": [
    "import importlib\n",
    "assert importlib.util.find_spec(\"imageio_ffmpeg\"), \"imageio_ffmpeg is not installed!\""
   ]
  },
  {
   "cell_type": "markdown",
   "id": "23da8b58",
   "metadata": {},
   "source": [
    "If `imageio-ffmpeg` is not installed, you may need to install by typing `conda install -c conda-forge imageio-ffmpeg`."
   ]
  },
  {
   "cell_type": "code",
   "execution_count": null,
   "id": "8ea57b1b",
   "metadata": {},
   "outputs": [],
   "source": [
    "%matplotlib inline\n",
    "import matplotlib.pyplot as plt\n",
    "import imageio.v2 as imageio\n",
    "\n",
    "try:\n",
    "    webcam = imageio.get_reader('<video0>')\n",
    "    frame = webcam.get_next_data()\n",
    "    webcam.close()\n",
    "\n",
    "    if frame is not None:\n",
    "        plt.figure()\n",
    "        plt.title(f\"Webcam image: {frame.shape}\")\n",
    "        plt.imshow(frame)\n",
    "        plt.show()\n",
    "    else:\n",
    "        print(\"No image.\")\n",
    "except Exception as ex:\n",
    "    print(\"Error:\", ex)"
   ]
  },
  {
   "cell_type": "markdown",
   "id": "c8c44414",
   "metadata": {},
   "source": [
    "* a webcam can be accessed as an imageio `Reader`\n",
    "* such a reader allows to read multiple images\n",
    "* it is essential to close a `Reader` after using it\n",
    "  - otherwise it will be blocked, prohibiting access by other programs\n",
    "  - if you lost the handle (`webcam`) you cannot close it anymore\n",
    "  - you may always restart the kernel to close the webcam\n",
    "* you may use Python context manage (`with` block) to automatically close the `Reader`"
   ]
  },
  {
   "cell_type": "code",
   "execution_count": null,
   "id": "9235420a",
   "metadata": {},
   "outputs": [],
   "source": [
    "%matplotlib inline\n",
    "import matplotlib.pyplot as plt\n",
    "import imageio\n",
    "\n",
    "try:\n",
    "    with imageio.get_reader('<video0>') as webcam:\n",
    "        frame = webcam.get_next_data()\n",
    "    if frame is not None:\n",
    "        plt.figure()\n",
    "        plt.title(f\"Webcam image: {frame.shape}\")\n",
    "        plt.imshow(frame)\n",
    "        plt.show()\n",
    "    else:\n",
    "        print(\"No image.\")\n",
    "except Exception as ex:\n",
    "    print(\"Error:\", ex)"
   ]
  },
  {
   "cell_type": "markdown",
   "id": "9119c6b8",
   "metadata": {},
   "source": [
    "You can also inspect some metadata of the camera:"
   ]
  },
  {
   "cell_type": "code",
   "execution_count": null,
   "id": "2779b99c",
   "metadata": {},
   "outputs": [],
   "source": [
    "import imageio\n",
    "\n",
    "try:\n",
    "    with imageio.get_reader('<video0>') as webcam:\n",
    "        print(webcam.get_meta_data())\n",
    "except Exception as ex:\n",
    "    print(\"Error:\", ex)"
   ]
  },
  {
   "cell_type": "markdown",
   "id": "dae14e3c",
   "metadata": {},
   "source": [
    "## Alternative: OpenCV (module `cv2`)\n",
    "\n",
    "OpenCV provides an alternative method to access the webcam:\n",
    "* `VideoCapture` object (similar to `imageio` `Reader`)\n",
    "* OpenCV has to be compiled with ffmpeg support to provide webcam access\n",
    "* OpenCV uses BGR (not RGB) images\n",
    "  - you need to switch the color channels for displaying the image"
   ]
  },
  {
   "cell_type": "code",
   "execution_count": null,
   "id": "7d6cf62c",
   "metadata": {},
   "outputs": [],
   "source": [
    "import matplotlib.pyplot as plt\n",
    "import cv2\n",
    "import logging\n",
    "\n",
    "try:\n",
    "    webcam = cv2.VideoCapture(0)\n",
    "    ret, frame_bgr = webcam.read()\n",
    "    webcam.release()\n",
    "\n",
    "    if ret:\n",
    "        frame = cv2.cvtColor(frame_bgr, cv2.COLOR_BGR2RGB)\n",
    "        plt.figure()\n",
    "        plt.title(f\"Webcam image: {frame.shape}\")\n",
    "        plt.imshow(frame)\n",
    "        plt.show()\n",
    "    else:\n",
    "        logging.error(\"Reading image failed!\")\n",
    "except Exception as ex:\n",
    "    print(\"Error:\", ex)"
   ]
  },
  {
   "cell_type": "markdown",
   "id": "3d7fe631",
   "metadata": {},
   "source": [
    "With OpenCV you can also inspect (and set) some camera properties:"
   ]
  },
  {
   "cell_type": "code",
   "execution_count": null,
   "id": "f4e1e6a8",
   "metadata": {},
   "outputs": [],
   "source": [
    "import cv2\n",
    "\n",
    "webcam= None\n",
    "try:\n",
    "    webcam = cv2.VideoCapture(0)\n",
    "    if not webcam.isOpened():\n",
    "        raise RuntimeError(f\"Error opening OpenCV VideopCapture ({index})\")\n",
    "\n",
    "    # Output camera information\n",
    "    print(\"Frame width:\", webcam.get(cv2.CAP_PROP_FRAME_WIDTH))\n",
    "    print(\"Frame height:\", webcam.get(cv2.CAP_PROP_FRAME_HEIGHT))\n",
    "\n",
    "    print(\"Auto exposure:\", webcam.get(cv2.CAP_PROP_AUTO_EXPOSURE))\n",
    "    print(\"Exposure:\", webcam.get(cv2.CAP_PROP_EXPOSURE))\n",
    "    \n",
    "finally:\n",
    "    if webcam is not None:\n",
    "        webcam.release()\n",
    "        webcam = None"
   ]
  },
  {
   "cell_type": "markdown",
   "id": "e534c5ef",
   "metadata": {},
   "source": [
    "## Webcam Stream\n",
    "\n",
    "A stream is essentially a sequence of images (frames).\n",
    "* we can show a camera stream by repeatedly updating the display:\n",
    "  - read new image from camera\n",
    "  - display the image\n",
    "* in `notebook` mode, a matplotlib figure can be updated and redrawn\n",
    "* to stop the loop, press <kbd>I</kbd>, <kbd>I</kbd> (Kernel Interrupt)"
   ]
  },
  {
   "cell_type": "code",
   "execution_count": null,
   "id": "cf87175d",
   "metadata": {},
   "outputs": [],
   "source": [
    "%matplotlib notebook\n",
    "from IPython.display import display, HTML\n",
    "import matplotlib.pyplot as plt\n",
    "import imageio.v2 as imageio\n",
    "\n",
    "try:\n",
    "    display(HTML(\"press <kbd>I</kbd>, <kbd>I</kbd> (Kernel Interrupt) to stop the demo!\"))\n",
    "    with imageio.get_reader('<video0>') as webcam:\n",
    "        fig = plt.figure(figsize=(8,6))\n",
    "        mpl_image = plt.imshow(webcam.get_next_data())\n",
    "\n",
    "        while True:\n",
    "            img = webcam.get_next_data()\n",
    "            mpl_image.set_data(img)\n",
    "            fig.canvas.draw()\n",
    "except KeyboardInterrupt:\n",
    "    print(\"Interrupted\")\n",
    "finally:\n",
    "    webcam.close()\n",
    "    plt.close(fig)\n",
    "    print(\"Camera was closed.\")"
   ]
  },
  {
   "cell_type": "markdown",
   "id": "6721abad",
   "metadata": {},
   "source": [
    "Of course, it is also possible to apply an image operator before displaying the image:"
   ]
  },
  {
   "cell_type": "code",
   "execution_count": null,
   "id": "ae4115f4",
   "metadata": {},
   "outputs": [],
   "source": [
    "%matplotlib notebook\n",
    "from IPython.display import display, HTML\n",
    "import matplotlib.pyplot as plt\n",
    "import imageio\n",
    "\n",
    "try:\n",
    "    display(HTML(\"press <kbd>I</kbd>, <kbd>I</kbd> (Kernel Interrupt) to stop the demo!\"))\n",
    "    with imageio.get_reader('<video0>') as webcam:\n",
    "        fig = plt.figure(figsize=(8,6))\n",
    "        mpl_image = plt.imshow(webcam.get_next_data())\n",
    "\n",
    "        while True:\n",
    "            img = webcam.get_next_data()\n",
    "            img_processed = 255 - img\n",
    "            mpl_image.set_data(img_processed)\n",
    "            fig.canvas.draw()\n",
    "except KeyboardInterrupt:\n",
    "    print(\"Interrupted\")\n",
    "finally:\n",
    "    webcam.close()\n",
    "    plt.close(fig)\n",
    "    print(\"Camera was closed.\")"
   ]
  },
  {
   "cell_type": "markdown",
   "id": "2f8e5fd4",
   "metadata": {},
   "source": [
    "Matplotlib subplots allow to plot multiple images side by side:\n",
    "- `subplot(rows, columns, index)`\n",
    "- creates a grid of plots with shape `rows` x `columns`\n",
    "- `index` starts with 1, runs horizontally, then vertically\n",
    "- example: \n",
    "  - `subplot(1, 2, 1)` left plot in a grid of 1x2\n",
    "  - `subplot(1, 2, 2)` right plot in a grid of 1x2"
   ]
  },
  {
   "cell_type": "code",
   "execution_count": null,
   "id": "908e8332",
   "metadata": {},
   "outputs": [],
   "source": [
    "%matplotlib notebook\n",
    "from IPython.display import display, HTML\n",
    "import matplotlib.pyplot as plt\n",
    "import imageio\n",
    "\n",
    "try:\n",
    "    display(HTML(\"press <kbd>I</kbd>, <kbd>I</kbd> (Kernel Interrupt) to stop the demo!\"))\n",
    "    with imageio.get_reader('<video0>') as webcam:\n",
    "        fig = plt.figure(figsize=(12,6))\n",
    "        plt.subplot(1,2,1)\n",
    "        mpl_image1 = plt.imshow(webcam.get_next_data())\n",
    "        plt.subplot(1,2,2)\n",
    "        mpl_image2 = plt.imshow(webcam.get_next_data())\n",
    "\n",
    "        while True:\n",
    "            img = webcam.get_next_data()\n",
    "            img_processed = 255-img\n",
    "            mpl_image1.set_data(img)\n",
    "            mpl_image2.set_data(img_processed)\n",
    "            fig.canvas.draw()\n",
    "except KeyboardInterrupt:\n",
    "    print(\"Interrupted\")\n",
    "finally:\n",
    "    webcam.close()\n",
    "    plt.close(fig)\n",
    "    print(\"Camera was closed.\")"
   ]
  }
 ],
 "metadata": {
  "kernelspec": {
   "display_name": "Python 3 (ipykernel)",
   "language": "python",
   "name": "python3"
  },
  "language_info": {
   "codemirror_mode": {
    "name": "ipython",
    "version": 3
   },
   "file_extension": ".py",
   "mimetype": "text/x-python",
   "name": "python",
   "nbconvert_exporter": "python",
   "pygments_lexer": "ipython3",
   "version": "3.10.6"
  }
 },
 "nbformat": 4,
 "nbformat_minor": 5
}
