{
 "cells": [
  {
   "cell_type": "markdown",
   "id": "1d3df862-5d39-44c2-aa6f-acf0e3b16a7b",
   "metadata": {},
   "source": [
    "# Re-Labeling"
   ]
  },
  {
   "cell_type": "markdown",
   "id": "a1ebb437-c0c7-4e59-922a-0607cab612e8",
   "metadata": {},
   "source": [
    "Relabel EH label classes from 0: myleft, 1: myright, 2: yourleft, 3: yourright to 21, 22, 23, 24 to match the .yaml file."
   ]
  },
  {
   "cell_type": "code",
   "execution_count": 1,
   "id": "fb5f0a23-74f7-423f-a49a-9ef27c74098f",
   "metadata": {},
   "outputs": [],
   "source": [
    "import os\n",
    "import fileinput"
   ]
  },
  {
   "cell_type": "code",
   "execution_count": 4,
   "id": "cd4c150b-1a4f-4021-9bae-09d580deac2a",
   "metadata": {},
   "outputs": [],
   "source": [
    "path = './datasets/cocohands/labels/'\n",
    "\n",
    "# Mapping of old class IDs to new class IDs\n",
    "class_id_mapping = {\n",
    "    '0': '21',\n",
    "    '1': '22',\n",
    "    '2': '23',\n",
    "    '3': '24'\n",
    "}"
   ]
  },
  {
   "cell_type": "markdown",
   "id": "216dc790-f656-4fe8-91b1-36ebe1e9e061",
   "metadata": {},
   "source": [
    "Change class IDs in validation labels."
   ]
  },
  {
   "cell_type": "code",
   "execution_count": 5,
   "id": "6e1acfb9-68ff-44fd-88c7-c44b0c4b0595",
   "metadata": {},
   "outputs": [],
   "source": [
    "# Iterate through label files in the val folder\n",
    "for filename in os.listdir(path+'val'):\n",
    "    if filename.endswith('.txt') and 'frame' in filename:\n",
    "        file_path = os.path.join(path+'val', filename)\n",
    "        \n",
    "        # Read and modify the file using fileinput\n",
    "        with fileinput.FileInput(file_path, inplace=True) as file:\n",
    "            for line in file:\n",
    "                columns = line.strip().split()\n",
    "                if columns and columns[0] in class_id_mapping:\n",
    "                    columns[0] = class_id_mapping[columns[0]]\n",
    "                print(' '.join(columns))"
   ]
  },
  {
   "cell_type": "markdown",
   "id": "093d2dc0-bd37-47bd-b00d-a019a7f2b932",
   "metadata": {},
   "source": [
    "Change class IDs in validation labels."
   ]
  },
  {
   "cell_type": "code",
   "execution_count": 6,
   "id": "6f972b7b-38f6-4957-87c9-e52fcb97e4b1",
   "metadata": {},
   "outputs": [],
   "source": [
    "# Iterate through label files in the train folder\n",
    "for filename in os.listdir(path+'train'):\n",
    "    if filename.endswith('.txt') and 'frame' in filename:\n",
    "        file_path = os.path.join(path+'train', filename)\n",
    "        \n",
    "        # Read and modify the file using fileinput\n",
    "        with fileinput.FileInput(file_path, inplace=True) as file:\n",
    "            for line in file:\n",
    "                columns = line.strip().split()\n",
    "                if columns and columns[0] in class_id_mapping:\n",
    "                    columns[0] = class_id_mapping[columns[0]]\n",
    "                print(' '.join(columns))"
   ]
  },
  {
   "cell_type": "code",
   "execution_count": null,
   "id": "4ab23f06-cb76-4afe-82df-042ff05afd57",
   "metadata": {},
   "outputs": [],
   "source": []
  }
 ],
 "metadata": {
  "kernelspec": {
   "display_name": "Python 3 (ipykernel)",
   "language": "python",
   "name": "python3"
  },
  "language_info": {
   "codemirror_mode": {
    "name": "ipython",
    "version": 3
   },
   "file_extension": ".py",
   "mimetype": "text/x-python",
   "name": "python",
   "nbconvert_exporter": "python",
   "pygments_lexer": "ipython3",
   "version": "3.11.3"
  }
 },
 "nbformat": 4,
 "nbformat_minor": 5
}
